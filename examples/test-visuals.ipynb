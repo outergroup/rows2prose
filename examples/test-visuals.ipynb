{
 "cells": [
  {
   "cell_type": "code",
   "execution_count": null,
   "metadata": {},
   "outputs": [],
   "source": [
    "import numpy as np\n",
    "import pandas as pd\n",
    "import rows2prose.notebook as r2p\n",
    "import rows2prose.web\n",
    "rows2prose.notebook.init_notebook_mode()"
   ]
  },
  {
   "cell_type": "code",
   "execution_count": null,
   "metadata": {},
   "outputs": [],
   "source": [
    "html = \"\"\"\n",
    "<p><strong>Breakdown by population:</strong><p>\n",
    "<p>Group A: <span data-key=\"A\" class='scalar-view'></span></p>\n",
    "<p>Group B: <span data-key='B' class='scalar-view'></span></p>\n",
    "<p>Group C: <span data-key='C' class='scalar-view'></span></p>\n",
    "<p>Group D: <span data-key='D' class='scalar-view'></span></p>\n",
    "\"\"\"\n",
    "\n",
    "renderer = rows2prose.web.Snapshot\n",
    "df = pd.DataFrame(np.abs(np.random.randn(1, 4)), columns=['A', 'B', 'C', 'D'])\n",
    "r2p.display(df, html, renderer(renderer.positive_scalar_view(class_name=\"scalar-view\")))\n",
    "\n",
    "renderer = rows2prose.web.DistributionSnapshot\n",
    "df = pd.DataFrame(np.abs(np.random.randn(10, 4)), columns=['A', 'B', 'C', 'D'])\n",
    "r2p.display(df, html, renderer(renderer.scalar_view(class_name=\"scalar-view\")))\n",
    "\n",
    "renderer = rows2prose.web.DistributionListSnapshot\n",
    "columns = {k: np.random.randn(120) for k in ['A', 'B', 'C', 'D']}\n",
    "i_config = []\n",
    "for i in range(12):\n",
    "    i_config += [i] * 10\n",
    "columns['i_config'] = np.array(i_config, dtype=\"int32\")\n",
    "df = pd.DataFrame(columns)\n",
    "r2p.display(df, html, renderer(renderer.scalar_view(class_name=\"scalar-view\", height=50)))"
   ]
  },
  {
   "cell_type": "code",
   "execution_count": null,
   "metadata": {},
   "outputs": [],
   "source": [
    "html = \"\"\"\n",
    "<div class=\"time-control\" style=\"width:400px\"></div>\n",
    "<p><strong>Breakdown by population:</strong><p>\n",
    "<p>Group A: <span data-key=\"A\" class='scalar-view'></span></p>\n",
    "<p>Group B: <span data-key='B' class='scalar-view'></span></p>\n",
    "<p>Group C: <span data-key='C' class='scalar-view'></span></p>\n",
    "<p>Group D: <span data-key='D' class='scalar-view'></span></p>\n",
    "\"\"\"\n",
    "\n",
    "renderer = rows2prose.web.Timeline\n",
    "columns = {k: np.abs(np.random.randn(12)) for k in ['A', 'B', 'C', 'D']}\n",
    "columns['i_timestep'] = np.array(list(range(12)), dtype=\"int32\")\n",
    "df = pd.DataFrame(columns)\n",
    "r2p.display(df, html, renderer(\n",
    "    renderer.time_control(class_name=\"time-control\"),\n",
    "    renderer.positive_scalar_view(class_name=\"scalar-view\")))\n",
    "\n",
    "renderer = rows2prose.web.DistributionTimeline\n",
    "columns = {k: np.random.randn(120) for k in ['A', 'B', 'C', 'D']}\n",
    "i_timestep = []\n",
    "for i in range(12):\n",
    "    i_timestep += [i] * 10\n",
    "columns['i_timestep'] = np.array(i_timestep, dtype=\"int32\")\n",
    "df = pd.DataFrame(columns)\n",
    "r2p.display(df, html, renderer(\n",
    "    renderer.time_control(class_name=\"time-control\"),\n",
    "    renderer.scalar_view(class_name=\"scalar-view\")\n",
    "    ))"
   ]
  },
  {
   "cell_type": "code",
   "execution_count": null,
   "metadata": {},
   "outputs": [],
   "source": [
    "import time\n",
    "\n",
    "html = \"\"\"\n",
    "<div class=\"time-control\" style=\"width:400px\"></div>\n",
    "<p><strong>Breakdown by population:</strong><p>\n",
    "<p>Group A: <span data-key=\"A\" class='scalar-view'></span></p>\n",
    "<p>Group B: <span data-key='B' class='scalar-view'></span></p>\n",
    "<p>Group C: <span data-key='C' class='scalar-view'></span></p>\n",
    "<p>Group D: <span data-key='D' class='scalar-view'></span></p>\n",
    "\"\"\"\n",
    "\n",
    "renderer = rows2prose.web.Snapshot\n",
    "setdata = r2p.display_dynamic(html, renderer(renderer.positive_scalar_view(class_name=\"scalar-view\")))\n",
    "for i in range(12):\n",
    "    setdata(pd.DataFrame(np.abs(np.random.randn(1, 4)), columns=list('ABCD')))\n",
    "    time.sleep(0.2)\n",
    "\n",
    "\n",
    "renderer = rows2prose.web.DistributionSnapshot\n",
    "setdata = r2p.display_dynamic(html, renderer(renderer.scalar_view(class_name=\"scalar-view\")))\n",
    "for i in range(12):\n",
    "    setdata(pd.DataFrame(np.abs(np.random.randn(10, 4)), columns=list('ABCD')))\n",
    "    time.sleep(0.2)"
   ]
  }
 ],
 "metadata": {
  "kernelspec": {
   "display_name": "Python 3 (ipykernel)",
   "language": "python",
   "name": "python3"
  },
  "language_info": {
   "codemirror_mode": {
    "name": "ipython",
    "version": 3
   },
   "file_extension": ".py",
   "mimetype": "text/x-python",
   "name": "python",
   "nbconvert_exporter": "python",
   "pygments_lexer": "ipython3",
   "version": "3.9.13"
  }
 },
 "nbformat": 4,
 "nbformat_minor": 4
}
