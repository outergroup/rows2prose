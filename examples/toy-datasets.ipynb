{
 "cells": [
  {
   "cell_type": "markdown",
   "metadata": {},
   "source": [
    "# Use rows2prose with toy datasets\n",
    "\n",
    "These are silly use cases, but they are useful for quickly showing how to use the library."
   ]
  },
  {
   "cell_type": "code",
   "execution_count": null,
   "metadata": {},
   "outputs": [],
   "source": [
    "import numpy as np\n",
    "import pandas as pd\n",
    "\n",
    "import rows2prose.notebook as r2p\n",
    "r2p.init_notebook_mode()"
   ]
  },
  {
   "cell_type": "markdown",
   "metadata": {},
   "source": [
    "## View features across different classes"
   ]
  },
  {
   "cell_type": "code",
   "execution_count": null,
   "metadata": {},
   "outputs": [],
   "source": [
    "import numpy as np\n",
    "import pandas as pd\n",
    "\n",
    "import rows2prose.notebook as r2p\n",
    "import rows2prose.web\n",
    "from sklearn import datasets\n",
    "\n",
    "for s, loader in [(\"wine\", datasets.load_wine),\n",
    "                  (\"iris\", datasets.load_iris)]:\n",
    "    df = loader(as_frame=True).frame\n",
    "    html = (f\"<strong>Properties of {np.unique(df['target']).size} different classes of {s}</strong><br/>\"\n",
    "            + \"\".join(f\"\"\"<div style='display:inline-block;margin:10px;'>\n",
    "                          {name.replace('_', ' ')}:<br/>\n",
    "                          <span data-key='{name}' class='scalar-view{i}'></span>\n",
    "                      </div>\"\"\"\n",
    "                      for i, name in enumerate(df.columns)\n",
    "                      if name != \"target\"))\n",
    "\n",
    "    r2p.display(df, html, r2p.DistributionListSnapshot(\n",
    "        *[r2p.DistributionListSnapshot.scalar_view(class_name=f\"scalar-view{i}\", height=20)\n",
    "          for i, name in enumerate(df.columns)\n",
    "          if name != \"target\"],\n",
    "        i_config_column=\"target\"))\n",
    "    print()"
   ]
  },
  {
   "cell_type": "markdown",
   "metadata": {},
   "source": [
    "## Browse a dataset, optionally play it as a sequence"
   ]
  },
  {
   "cell_type": "code",
   "execution_count": null,
   "metadata": {},
   "outputs": [],
   "source": [
    "for s, prefix, loader in [(\"Physical Exercise Linnerud\", \"Athlete\", datasets.load_linnerud),]:\n",
    "    df = loader(as_frame=True).frame\n",
    "    html = f\"\"\"\n",
    "    <p><strong>Browse sklearn's toy {s} dataset:</strong><p>\n",
    "    <div class=\"time-control\" style=\"width:400px\"></div>\n",
    "    \"\"\" + \"\\n\".join(f\"<p>{name}: <span data-key='{name}' class='scalar-view{i}'></span></p>\"\n",
    "                    for i, name in enumerate(df.columns))\n",
    "    df[\"id\"] = np.arange(df.shape[0])\n",
    "\n",
    "    r2p.display(df, html, r2p.Timeline(\n",
    "        r2p.Timeline.time_control(class_name=\"time-control\", prefix=prefix),\n",
    "        *(r2p.Timeline.positive_scalar_view(class_name=f\"scalar-view{i}\")\n",
    "          for i in range(len(df.columns) - 1)),\n",
    "        i_timestep_column=\"id\"))\n",
    "    print()"
   ]
  }
 ],
 "metadata": {
  "kernelspec": {
   "display_name": "base",
   "language": "python",
   "name": "python3"
  },
  "language_info": {
   "codemirror_mode": {
    "name": "ipython",
    "version": 3
   },
   "file_extension": ".py",
   "mimetype": "text/x-python",
   "name": "python",
   "nbconvert_exporter": "python",
   "pygments_lexer": "ipython3",
   "version": "3.9.13"
  }
 },
 "nbformat": 4,
 "nbformat_minor": 2
}
