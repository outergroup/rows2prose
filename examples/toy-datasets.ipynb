{
 "cells": [
  {
   "cell_type": "markdown",
   "metadata": {},
   "source": [
    "# Use rows2prose with toy datasets\n",
    "\n",
    "These are silly use cases, but it's useful as a way of demonstrating the library."
   ]
  },
  {
   "cell_type": "code",
   "execution_count": null,
   "metadata": {},
   "outputs": [],
   "source": [
    "import numpy as np\n",
    "import pandas as pd\n",
    "\n",
    "import rows2prose.notebook as r2p\n",
    "import rows2prose.web\n",
    "rows2prose.notebook.init_notebook_mode()"
   ]
  },
  {
   "cell_type": "markdown",
   "metadata": {},
   "source": [
    "## View features across different classes"
   ]
  },
  {
   "cell_type": "code",
   "execution_count": null,
   "metadata": {},
   "outputs": [],
   "source": [
    "from sklearn import datasets\n",
    "\n",
    "for s, loader in [(\"Wine\", datasets.load_wine),\n",
    "                  (\"Iris\", datasets.load_iris)]:\n",
    "    dataset = loader(as_frame=True)\n",
    "    data1 = pd.concat([dataset.data, dataset.target.astype(\"int32\")], axis=1)\n",
    "\n",
    "    html = (f\"<strong>Properties of {np.unique(data1['target']).size} different classes of {s}</strong><br/>\"\n",
    "            + \"\".join(f\"<p>{name}: <span data-key='{name}' class='scalar-view{i}'></span></p>\"\n",
    "                      for i, name in enumerate(column\n",
    "                                            for column in data1.columns\n",
    "                                            if column != \"target\")))\n",
    "\n",
    "    renderer = rows2prose.web.DistributionListSnapshot\n",
    "    r2p.display(data1, html, renderer(\n",
    "        *[renderer.scalar_view(class_name=f\"scalar-view{i}\")\n",
    "          for i in range(len(data1.columns) - 1)],\n",
    "        i_config_column=\"target\"))\n",
    "    print()"
   ]
  },
  {
   "cell_type": "markdown",
   "metadata": {},
   "source": [
    "## Browse a dataset, optionally play it as a sequence"
   ]
  },
  {
   "cell_type": "code",
   "execution_count": null,
   "metadata": {},
   "outputs": [],
   "source": [
    "for s, prefix, loader in [(\"Physical Exercise Linnerud\", \"Athlete\", datasets.load_linnerud),]:\n",
    "\n",
    "    dataset = loader(as_frame=True)\n",
    "    df = pd.concat([dataset.data, dataset.target], axis=1)\n",
    "\n",
    "    html = f\"\"\"\n",
    "    <p><strong>Browse the {s} dataset:</strong><p>\n",
    "    <div class=\"time-control\" style=\"width:400px\"></div>\n",
    "    \"\"\" + \"\".join(f\"<p>{name}: <span data-key='{name}' class='scalar-view{i}'></span></p>\"\n",
    "                  for i, name in enumerate(df.columns))\n",
    "\n",
    "    df[\"id\"] = np.array(list(range(df.shape[0])), dtype=\"int32\")\n",
    "\n",
    "    renderer = rows2prose.web.Timeline\n",
    "    r2p.display(df, html, renderer(\n",
    "        renderer.time_control(class_name=\"time-control\", prefix=prefix),\n",
    "            *[renderer.positive_scalar_view(class_name=f\"scalar-view{i}\")\n",
    "              for i in range(len(df.columns) - 1)],\n",
    "        i_timestep_column=\"id\"))\n",
    "    print()"
   ]
  }
 ],
 "metadata": {
  "kernelspec": {
   "display_name": "base",
   "language": "python",
   "name": "python3"
  },
  "language_info": {
   "codemirror_mode": {
    "name": "ipython",
    "version": 3
   },
   "file_extension": ".py",
   "mimetype": "text/x-python",
   "name": "python",
   "nbconvert_exporter": "python",
   "pygments_lexer": "ipython3",
   "version": "3.9.13"
  }
 },
 "nbformat": 4,
 "nbformat_minor": 2
}
